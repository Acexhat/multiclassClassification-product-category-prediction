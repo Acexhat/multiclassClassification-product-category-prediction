{
 "cells": [
  {
   "cell_type": "markdown",
   "metadata": {},
   "source": [
    "## Predict Product Category from Invoice"
   ]
  },
  {
   "cell_type": "code",
   "execution_count": 107,
   "metadata": {},
   "outputs": [],
   "source": [
    "# Import the necessary libraries\n",
    "import pandas as pd\n",
    "import numpy as np\n",
    "import matplotlib.pyplot as plt\n",
    "%matplotlib inline"
   ]
  },
  {
   "cell_type": "markdown",
   "metadata": {},
   "source": [
    "### Gathering the data from the provided .csv files "
   ]
  },
  {
   "cell_type": "code",
   "execution_count": 108,
   "metadata": {},
   "outputs": [
    {
     "data": {
      "text/html": [
       "<div>\n",
       "<style scoped>\n",
       "    .dataframe tbody tr th:only-of-type {\n",
       "        vertical-align: middle;\n",
       "    }\n",
       "\n",
       "    .dataframe tbody tr th {\n",
       "        vertical-align: top;\n",
       "    }\n",
       "\n",
       "    .dataframe thead th {\n",
       "        text-align: right;\n",
       "    }\n",
       "</style>\n",
       "<table border=\"1\" class=\"dataframe\">\n",
       "  <thead>\n",
       "    <tr style=\"text-align: right;\">\n",
       "      <th></th>\n",
       "      <th>Inv_Id</th>\n",
       "      <th>Vendor_Code</th>\n",
       "      <th>GL_Code</th>\n",
       "      <th>Inv_Amt</th>\n",
       "      <th>Item_Description</th>\n",
       "      <th>Product_Category</th>\n",
       "    </tr>\n",
       "  </thead>\n",
       "  <tbody>\n",
       "    <tr>\n",
       "      <th>0</th>\n",
       "      <td>15001</td>\n",
       "      <td>VENDOR-1676</td>\n",
       "      <td>GL-6100410</td>\n",
       "      <td>83.24</td>\n",
       "      <td>Artworking/Typesetting Production Jun 2009 Cha...</td>\n",
       "      <td>CLASS-1963</td>\n",
       "    </tr>\n",
       "    <tr>\n",
       "      <th>1</th>\n",
       "      <td>15002</td>\n",
       "      <td>VENDOR-1883</td>\n",
       "      <td>GL-2182000</td>\n",
       "      <td>51.18</td>\n",
       "      <td>Auto Leasing Corporate Services Corning Inc /N...</td>\n",
       "      <td>CLASS-1250</td>\n",
       "    </tr>\n",
       "    <tr>\n",
       "      <th>2</th>\n",
       "      <td>15004</td>\n",
       "      <td>VENDOR-1999</td>\n",
       "      <td>GL-6050100</td>\n",
       "      <td>79.02</td>\n",
       "      <td>Store Management Lease/Rent Deltona Corp Real ...</td>\n",
       "      <td>CLASS-1274</td>\n",
       "    </tr>\n",
       "    <tr>\n",
       "      <th>3</th>\n",
       "      <td>15005</td>\n",
       "      <td>VENDOR-1771</td>\n",
       "      <td>GL-6101400</td>\n",
       "      <td>48.50</td>\n",
       "      <td>Store Construction General Requirements Coloni...</td>\n",
       "      <td>CLASS-1522</td>\n",
       "    </tr>\n",
       "    <tr>\n",
       "      <th>4</th>\n",
       "      <td>15006</td>\n",
       "      <td>VENDOR-1331</td>\n",
       "      <td>GL-2182000</td>\n",
       "      <td>63.35</td>\n",
       "      <td>Jul 2015 Aydin Corp Contingent Labor/Temp Labo...</td>\n",
       "      <td>CLASS-1376</td>\n",
       "    </tr>\n",
       "  </tbody>\n",
       "</table>\n",
       "</div>"
      ],
      "text/plain": [
       "   Inv_Id  Vendor_Code     GL_Code  Inv_Amt  \\\n",
       "0   15001  VENDOR-1676  GL-6100410    83.24   \n",
       "1   15002  VENDOR-1883  GL-2182000    51.18   \n",
       "2   15004  VENDOR-1999  GL-6050100    79.02   \n",
       "3   15005  VENDOR-1771  GL-6101400    48.50   \n",
       "4   15006  VENDOR-1331  GL-2182000    63.35   \n",
       "\n",
       "                                    Item_Description Product_Category  \n",
       "0  Artworking/Typesetting Production Jun 2009 Cha...       CLASS-1963  \n",
       "1  Auto Leasing Corporate Services Corning Inc /N...       CLASS-1250  \n",
       "2  Store Management Lease/Rent Deltona Corp Real ...       CLASS-1274  \n",
       "3  Store Construction General Requirements Coloni...       CLASS-1522  \n",
       "4  Jul 2015 Aydin Corp Contingent Labor/Temp Labo...       CLASS-1376  "
      ]
     },
     "execution_count": 108,
     "metadata": {},
     "output_type": "execute_result"
    }
   ],
   "source": [
    "# Read the training dataset from a .csv file to a dataframe\n",
    "df1 = pd.read_csv('dataset/Train.csv')\n",
    "df1.head()"
   ]
  },
  {
   "cell_type": "markdown",
   "metadata": {},
   "source": [
    "### Exploring and Cleaning the data for further analysis purpose"
   ]
  },
  {
   "cell_type": "code",
   "execution_count": 109,
   "metadata": {},
   "outputs": [
    {
     "name": "stdout",
     "output_type": "stream",
     "text": [
      "<class 'pandas.core.frame.DataFrame'>\n",
      "RangeIndex: 5566 entries, 0 to 5565\n",
      "Data columns (total 6 columns):\n",
      "Inv_Id              5566 non-null int64\n",
      "Vendor_Code         5566 non-null object\n",
      "GL_Code             5566 non-null object\n",
      "Inv_Amt             5566 non-null float64\n",
      "Item_Description    5566 non-null object\n",
      "Product_Category    5566 non-null object\n",
      "dtypes: float64(1), int64(1), object(4)\n",
      "memory usage: 261.0+ KB\n"
     ]
    }
   ],
   "source": [
    "# Check for wrong datatypes and missing values\n",
    "df1.info()"
   ]
  },
  {
   "cell_type": "code",
   "execution_count": 110,
   "metadata": {},
   "outputs": [
    {
     "data": {
      "text/plain": [
       "0"
      ]
     },
     "execution_count": 110,
     "metadata": {},
     "output_type": "execute_result"
    }
   ],
   "source": [
    "# Check for duplicate data\n",
    "sum(df.duplicated())"
   ]
  },
  {
   "cell_type": "code",
   "execution_count": 111,
   "metadata": {},
   "outputs": [
    {
     "data": {
      "text/html": [
       "<div>\n",
       "<style scoped>\n",
       "    .dataframe tbody tr th:only-of-type {\n",
       "        vertical-align: middle;\n",
       "    }\n",
       "\n",
       "    .dataframe tbody tr th {\n",
       "        vertical-align: top;\n",
       "    }\n",
       "\n",
       "    .dataframe thead th {\n",
       "        text-align: right;\n",
       "    }\n",
       "</style>\n",
       "<table border=\"1\" class=\"dataframe\">\n",
       "  <thead>\n",
       "    <tr style=\"text-align: right;\">\n",
       "      <th></th>\n",
       "      <th>Inv_Id</th>\n",
       "      <th>Inv_Amt</th>\n",
       "    </tr>\n",
       "  </thead>\n",
       "  <tbody>\n",
       "    <tr>\n",
       "      <th>count</th>\n",
       "      <td>5566.000000</td>\n",
       "      <td>5566.000000</td>\n",
       "    </tr>\n",
       "    <tr>\n",
       "      <th>mean</th>\n",
       "      <td>19010.787100</td>\n",
       "      <td>49.980151</td>\n",
       "    </tr>\n",
       "    <tr>\n",
       "      <th>std</th>\n",
       "      <td>2306.607485</td>\n",
       "      <td>28.903030</td>\n",
       "    </tr>\n",
       "    <tr>\n",
       "      <th>min</th>\n",
       "      <td>15001.000000</td>\n",
       "      <td>0.010000</td>\n",
       "    </tr>\n",
       "    <tr>\n",
       "      <th>25%</th>\n",
       "      <td>17006.250000</td>\n",
       "      <td>24.957500</td>\n",
       "    </tr>\n",
       "    <tr>\n",
       "      <th>50%</th>\n",
       "      <td>19017.500000</td>\n",
       "      <td>49.645000</td>\n",
       "    </tr>\n",
       "    <tr>\n",
       "      <th>75%</th>\n",
       "      <td>20994.750000</td>\n",
       "      <td>75.170000</td>\n",
       "    </tr>\n",
       "    <tr>\n",
       "      <th>max</th>\n",
       "      <td>23012.000000</td>\n",
       "      <td>99.990000</td>\n",
       "    </tr>\n",
       "  </tbody>\n",
       "</table>\n",
       "</div>"
      ],
      "text/plain": [
       "             Inv_Id      Inv_Amt\n",
       "count   5566.000000  5566.000000\n",
       "mean   19010.787100    49.980151\n",
       "std     2306.607485    28.903030\n",
       "min    15001.000000     0.010000\n",
       "25%    17006.250000    24.957500\n",
       "50%    19017.500000    49.645000\n",
       "75%    20994.750000    75.170000\n",
       "max    23012.000000    99.990000"
      ]
     },
     "execution_count": 111,
     "metadata": {},
     "output_type": "execute_result"
    }
   ],
   "source": [
    "# Check for outliers or any other statistical info\n",
    "df1.describe()"
   ]
  },
  {
   "cell_type": "code",
   "execution_count": 112,
   "metadata": {},
   "outputs": [
    {
     "data": {
      "image/png": "[encoded data removed]",
      "text/plain": [
       "<Figure size 432x288 with 1 Axes>"
      ]
     },
     "metadata": {
      "needs_background": "light"
     },
     "output_type": "display_data"
    }
   ],
   "source": [
    "# Check the distribution of Inv_Amt\n",
    "df1['Inv_Amt'].hist();"
   ]
  },
  {
   "cell_type": "code",
   "execution_count": 113,
   "metadata": {},
   "outputs": [
    {
     "name": "stdout",
     "output_type": "stream",
     "text": [
      "Artworking/Typesetting Production Jun 2009 Champion Parts Inc SMAP Prototype and Comp Production/Packaging Design\n",
      "Auto Leasing Corporate Services Corning Inc /Ny 2013-Mar  Auto Leasing and Maintenance Other Corporate Services\n",
      "Store Management Lease/Rent Deltona Corp Real Estate Base Rent Jul2018\n",
      "Store Construction General Requirements Colonial Trust Iii General Contractor Final Site Clean Up 2005-Dec \n",
      "Jul 2015 Aydin Corp Contingent Labor/Temp Labor Contingent Labor/Temp Labor Corporate Services Human Resources\n",
      "Final Site Clean Up 2018Mar Store Construction Dravo Corp General Contractor General Requirements\n",
      "Travel and Entertainment Miscellaneous Company Car (Field Only) Texas New Mexico Power Co Ground Transportation Miscellaneous Company Car (Field Only) 2011-Mar \n",
      "General Contractor General Requirements Final Site Clean Up American Pad & Paper Co Apr2014 Store Construction\n",
      "Aquila Distributors Inc                                 /Bd Prototype and Comp Production/Packaging Design Jul 2007 Artworking/Typesetting Production SMAP\n",
      "Base Rent Store Management Chicago Rivet & Machine Co Dec-2017 Lease/Rent Real Estate\n"
     ]
    }
   ],
   "source": [
    "# Investigate the column 'Item_Description' and search for any pattern or incorrect data\n",
    "for i in range(10):\n",
    "    print ((df1['Item_Description'].iloc[i]))"
   ]
  },
  {
   "cell_type": "code",
   "execution_count": 114,
   "metadata": {},
   "outputs": [
    {
     "data": {
      "text/plain": [
       "array(['CLASS-1963', 'CLASS-1250', 'CLASS-1274', 'CLASS-1522',\n",
       "       'CLASS-1376', 'CLASS-1758', 'CLASS-2141', 'CLASS-1429',\n",
       "       'CLASS-1652', 'CLASS-1249', 'CLASS-1721', 'CLASS-1870',\n",
       "       'CLASS-1828', 'CLASS-2112', 'CLASS-1567', 'CLASS-1309',\n",
       "       'CLASS-1477', 'CLASS-1805', 'CLASS-1919', 'CLASS-1322',\n",
       "       'CLASS-1838', 'CLASS-2015', 'CLASS-1850', 'CLASS-2003',\n",
       "       'CLASS-1248', 'CLASS-1964', 'CLASS-2241', 'CLASS-1867',\n",
       "       'CLASS-1983', 'CLASS-1294', 'CLASS-1688', 'CLASS-2038',\n",
       "       'CLASS-1770', 'CLASS-2152', 'CLASS-2146', 'CLASS-1957'],\n",
       "      dtype=object)"
      ]
     },
     "execution_count": 114,
     "metadata": {},
     "output_type": "execute_result"
    }
   ],
   "source": [
    "# Check for the unique Product catergories assigned in the training data\n",
    "df_train.Product_Category.unique()"
   ]
  },
  {
   "cell_type": "markdown",
   "metadata": {},
   "source": [
    "**The overall dataset looks clean with no missing values and duplicates. Whereas the `Item_Description` column looks messy. Hence it needs to be cleaned before proceeding to any further analysis/prediction with the given data.**"
   ]
  },
  {
   "cell_type": "code",
   "execution_count": 115,
   "metadata": {},
   "outputs": [],
   "source": [
    "# Import libraries for pre-processing the text data\n",
    "import re\n",
    "import nltk\n",
    "from nltk.corpus import stopwords"
   ]
  },
  {
   "cell_type": "code",
   "execution_count": 116,
   "metadata": {},
   "outputs": [],
   "source": [
    "REPLACE_WITH_SPACE = re.compile('[/(){}\\[\\]\\|@,;]')\n",
    "BAD_SYMBOLS = re.compile('[^0-9a-z #+_]')\n",
    "STOPWORDS = set(stopwords.words('english'))\n",
    "ELLIPSIS = re.compile('[\\.\\.\\.]')\n",
    "CURRENCY_PERCN = re.compile('[\\$?\\d+(?:\\.\\d+)?%?]')\n",
    "ABBERV = re.compile('[\\(?:[A-Z]\\.\\)+]')\n",
    "\n",
    "\"\"\"\n",
    "    method: clean_text() | pre-processing/cleaning the raw Item_Description provided in the dataset\n",
    "    argument: text       | a string\n",
    "    return: text         | modified initial string\n",
    "\"\"\"\n",
    "def clean_text(text):\n",
    "    text = text.lower() # lowercase text\n",
    "    text = REPLACE_WITH_SPACE.sub(' ', text) # replace symbols by space in text\n",
    "    text = BAD_SYMBOLS.sub('', text) # delete symbols which are in BAD_SYMBOLS_RE from text\n",
    "    text = ELLIPSIS.sub('', text) # delete any ellipsis present in the data\n",
    "    text = CURRENCY_PERCN.sub(' ',text) # replace any currency or percentage with a space\n",
    "    text = ABBERV.sub(' ', text) # replace any abbreviation with a space\n",
    "    text = ' '.join(word for word in text.split() if word not in STOPWORDS) # delete stopwords from text\n",
    "    return text"
   ]
  },
  {
   "cell_type": "code",
   "execution_count": 117,
   "metadata": {},
   "outputs": [],
   "source": [
    "# Copy the original dataframe to a new dataframe for modification\n",
    "df_train = df1.copy()"
   ]
  },
  {
   "cell_type": "code",
   "execution_count": 118,
   "metadata": {},
   "outputs": [],
   "source": [
    "# Pre-process/CLean the Item_Description values using clean_text() method\n",
    "df_train['Item_Description'] = df['Item_Description'].apply(clean_text)"
   ]
  },
  {
   "cell_type": "code",
   "execution_count": 119,
   "metadata": {},
   "outputs": [
    {
     "name": "stdout",
     "output_type": "stream",
     "text": [
      "artworking typesetting production jun champion parts inc smap prototype comp production packaging design\n",
      "auto leasing corporate services corning inc ny mar auto leasing maintenance corporate services\n",
      "store management lease rent deltona corp real estate base rent jul\n",
      "store construction general requirements colonial trust iii general contractor final site clean dec\n",
      "jul aydin corp contingent labor temp labor contingent labor temp labor corporate services human resources\n",
      "final site clean mar store construction dravo corp general contractor general requirements\n",
      "travel entertainment miscellaneous company car field texas new mexico power co ground transportation miscellaneous company car field mar\n",
      "general contractor general requirements final site clean american pad paper co apr store construction\n",
      "aquila distributors inc bd prototype comp production packaging design jul artworking typesetting production smap\n",
      "base rent store management chicago rivet machine co dec lease rent real estate\n"
     ]
    }
   ],
   "source": [
    "# Check the cleaned text data\n",
    "for i in range(10):\n",
    "    print ((df_train['Item_Description'].iloc[i]))"
   ]
  },
  {
   "cell_type": "markdown",
   "metadata": {},
   "source": [
    "**The cleaned `Item_Description` is our feature data and `Product_Category` is our label/target data. Both this data needs to be in numeric form in order to trin a classifier using them, but both are of 'object' datatype and needs to be converted to numeric form**"
   ]
  },
  {
   "cell_type": "markdown",
   "metadata": {},
   "source": [
    "### Training ML models using the Cleaned dataset"
   ]
  },
  {
   "cell_type": "code",
   "execution_count": 120,
   "metadata": {},
   "outputs": [],
   "source": [
    "# split the training datatset into training and testing dataset\n",
    "from sklearn.model_selection import train_test_split\n",
    "\n",
    "X = df_train.Item_Description\n",
    "y = df_train.Product_Category\n",
    "X_train, X_test, y_train, y_test = train_test_split(X, y, test_size=0.3, random_state = 42)"
   ]
  },
  {
   "cell_type": "markdown",
   "metadata": {},
   "source": [
    "**After cleaning/pre-processing the text data and then splitting the dataset, the next step is feature engineering. The text data needs to be converted to a matrix of token counts (CountVectorizer), then transform a count matrix to a normalized Tf-idf representation (tf-idf transformer).**\n",
    "\n",
    "**Applying feature engineering to the features and labels, classifier needs to be trained with the numeric data. To find the most efficient and accurate model three different ML models are used for training and testing on the dataset.**\n",
    "- Multinomial Naive Bayes' CLassifier\n",
    "- Logistic Regression\n",
    "- Linear Support Vector Machine"
   ]
  },
  {
   "cell_type": "markdown",
   "metadata": {},
   "source": [
    "**Using Multinomial Naive Bayes' CLassifier for prediction**"
   ]
  },
  {
   "cell_type": "code",
   "execution_count": 121,
   "metadata": {},
   "outputs": [
    {
     "name": "stdout",
     "output_type": "stream",
     "text": [
      "accuracy 0.9556886227544911\n"
     ]
    }
   ],
   "source": [
    "# Import the necessary libraries\n",
    "from sklearn.pipeline import Pipeline\n",
    "from sklearn.feature_extraction.text import CountVectorizer\n",
    "from sklearn.feature_extraction.text import TfidfTransformer\n",
    "from sklearn import metrics\n",
    "from sklearn.naive_bayes import MultinomialNB\n",
    "\n",
    "nb = Pipeline([('vect', CountVectorizer()),\n",
    "               ('tfidf', TfidfTransformer()),\n",
    "               ('clf', MultinomialNB()),\n",
    "              ])\n",
    "nb.fit(X_train, y_train)\n",
    "\n",
    "y_pred = nb.predict(X_test)\n",
    "print('accuracy %s' % metrics.accuracy_score(y_pred, y_test))"
   ]
  },
  {
   "cell_type": "markdown",
   "metadata": {},
   "source": [
    "**Using Logistic Regression for prediction**"
   ]
  },
  {
   "cell_type": "code",
   "execution_count": 122,
   "metadata": {},
   "outputs": [
    {
     "name": "stdout",
     "output_type": "stream",
     "text": [
      "accuracy 0.9970059880239521\n"
     ]
    }
   ],
   "source": [
    "from sklearn.linear_model import LogisticRegression\n",
    "\n",
    "logreg = Pipeline([('vect', CountVectorizer()),\n",
    "                ('tfidf', TfidfTransformer()),\n",
    "                ('clf', LogisticRegression(n_jobs=1, C=1e5, multi_class='auto', solver='lbfgs')),\n",
    "               ])\n",
    "logreg.fit(X_train, y_train)\n",
    "\n",
    "y_pred = logreg.predict(X_test)\n",
    "\n",
    "print('accuracy %s' % metrics.accuracy_score(y_pred, y_test))"
   ]
  },
  {
   "cell_type": "markdown",
   "metadata": {},
   "source": [
    "**Using Linear Support Vector Machine for prediction**"
   ]
  },
  {
   "cell_type": "code",
   "execution_count": 123,
   "metadata": {},
   "outputs": [
    {
     "name": "stdout",
     "output_type": "stream",
     "text": [
      "accuracy 0.9940119760479041\n"
     ]
    }
   ],
   "source": [
    "from sklearn.linear_model import SGDClassifier\n",
    "\n",
    "sgd = Pipeline([('vect', CountVectorizer()),\n",
    "                ('tfidf', TfidfTransformer()),\n",
    "                ('clf', SGDClassifier(loss='hinge', penalty='l2',alpha=1e-3, random_state=42, max_iter=5, tol=None)),\n",
    "               ])\n",
    "sgd.fit(X_train, y_train)\n",
    "\n",
    "y_pred = sgd.predict(X_test)\n",
    "\n",
    "print('accuracy %s' % metrics.accuracy_score(y_pred, y_test))"
   ]
  },
  {
   "cell_type": "markdown",
   "metadata": {},
   "source": [
    "**After training all the three models using the train dataset it is observed that a Logistic Regression Model gives us the most accuracy of 99.7%. Hence the prediction of `Product_Category` for the provided test data in .csv file is done using the Logistic Regression Model.** "
   ]
  },
  {
   "cell_type": "code",
   "execution_count": 124,
   "metadata": {},
   "outputs": [],
   "source": [
    "# Read the test data from a .csv file to a dataframe\n",
    "df_test=pd.read_csv('dataset/Test.csv')\n",
    "df_test['Item_Description']=df_test['Item_Description'].apply(clean_text)"
   ]
  },
  {
   "cell_type": "code",
   "execution_count": 125,
   "metadata": {},
   "outputs": [
    {
     "data": {
      "text/html": [
       "<div>\n",
       "<style scoped>\n",
       "    .dataframe tbody tr th:only-of-type {\n",
       "        vertical-align: middle;\n",
       "    }\n",
       "\n",
       "    .dataframe tbody tr th {\n",
       "        vertical-align: top;\n",
       "    }\n",
       "\n",
       "    .dataframe thead th {\n",
       "        text-align: right;\n",
       "    }\n",
       "</style>\n",
       "<table border=\"1\" class=\"dataframe\">\n",
       "  <thead>\n",
       "    <tr style=\"text-align: right;\">\n",
       "      <th></th>\n",
       "      <th>Inv_Id</th>\n",
       "      <th>Vendor_Code</th>\n",
       "      <th>GL_Code</th>\n",
       "      <th>Inv_Amt</th>\n",
       "      <th>Item_Description</th>\n",
       "      <th>Product_Category</th>\n",
       "    </tr>\n",
       "  </thead>\n",
       "  <tbody>\n",
       "    <tr>\n",
       "      <th>0</th>\n",
       "      <td>15003</td>\n",
       "      <td>VENDOR-2513</td>\n",
       "      <td>GL-6050310</td>\n",
       "      <td>56.13</td>\n",
       "      <td>travel entertainment miscellaneous company car...</td>\n",
       "      <td>CLASS-1758</td>\n",
       "    </tr>\n",
       "    <tr>\n",
       "      <th>1</th>\n",
       "      <td>15008</td>\n",
       "      <td>VENDOR-1044</td>\n",
       "      <td>GL-6101400</td>\n",
       "      <td>96.56</td>\n",
       "      <td>final site clean store construction advanced m...</td>\n",
       "      <td>CLASS-1522</td>\n",
       "    </tr>\n",
       "    <tr>\n",
       "      <th>2</th>\n",
       "      <td>15013</td>\n",
       "      <td>VENDOR-1254</td>\n",
       "      <td>GL-6101400</td>\n",
       "      <td>55.93</td>\n",
       "      <td>arabian american development co final site cle...</td>\n",
       "      <td>CLASS-1522</td>\n",
       "    </tr>\n",
       "    <tr>\n",
       "      <th>3</th>\n",
       "      <td>15019</td>\n",
       "      <td>VENDOR-1331</td>\n",
       "      <td>GL-2182000</td>\n",
       "      <td>32.62</td>\n",
       "      <td>corporate services contingent labor temp labor...</td>\n",
       "      <td>CLASS-1376</td>\n",
       "    </tr>\n",
       "    <tr>\n",
       "      <th>4</th>\n",
       "      <td>15020</td>\n",
       "      <td>VENDOR-2513</td>\n",
       "      <td>GL-6050310</td>\n",
       "      <td>25.81</td>\n",
       "      <td>fortune national corp miscellaneous company ca...</td>\n",
       "      <td>CLASS-1758</td>\n",
       "    </tr>\n",
       "    <tr>\n",
       "      <th>5</th>\n",
       "      <td>15022</td>\n",
       "      <td>VENDOR-2513</td>\n",
       "      <td>GL-6050310</td>\n",
       "      <td>22.71</td>\n",
       "      <td>dec fortune national corp miscellaneous compan...</td>\n",
       "      <td>CLASS-1758</td>\n",
       "    </tr>\n",
       "    <tr>\n",
       "      <th>6</th>\n",
       "      <td>15024</td>\n",
       "      <td>VENDOR-1883</td>\n",
       "      <td>GL-2182000</td>\n",
       "      <td>47.38</td>\n",
       "      <td>auto leasing corporate services corning inc ny...</td>\n",
       "      <td>CLASS-1250</td>\n",
       "    </tr>\n",
       "    <tr>\n",
       "      <th>7</th>\n",
       "      <td>15026</td>\n",
       "      <td>VENDOR-2543</td>\n",
       "      <td>GL-6020600</td>\n",
       "      <td>26.08</td>\n",
       "      <td>taxes taxes mar frischs restaurants inc nonpro...</td>\n",
       "      <td>CLASS-2146</td>\n",
       "    </tr>\n",
       "    <tr>\n",
       "      <th>8</th>\n",
       "      <td>15027</td>\n",
       "      <td>VENDOR-1944</td>\n",
       "      <td>GL-2182000</td>\n",
       "      <td>42.76</td>\n",
       "      <td>daly john j auto fleet repair maintenance jun ...</td>\n",
       "      <td>CLASS-1249</td>\n",
       "    </tr>\n",
       "    <tr>\n",
       "      <th>9</th>\n",
       "      <td>15028</td>\n",
       "      <td>VENDOR-2032</td>\n",
       "      <td>GL-6100500</td>\n",
       "      <td>70.47</td>\n",
       "      <td>smap media buy traditional cgg holding us inc ...</td>\n",
       "      <td>CLASS-1850</td>\n",
       "    </tr>\n",
       "  </tbody>\n",
       "</table>\n",
       "</div>"
      ],
      "text/plain": [
       "   Inv_Id  Vendor_Code     GL_Code  Inv_Amt  \\\n",
       "0   15003  VENDOR-2513  GL-6050310    56.13   \n",
       "1   15008  VENDOR-1044  GL-6101400    96.56   \n",
       "2   15013  VENDOR-1254  GL-6101400    55.93   \n",
       "3   15019  VENDOR-1331  GL-2182000    32.62   \n",
       "4   15020  VENDOR-2513  GL-6050310    25.81   \n",
       "5   15022  VENDOR-2513  GL-6050310    22.71   \n",
       "6   15024  VENDOR-1883  GL-2182000    47.38   \n",
       "7   15026  VENDOR-2543  GL-6020600    26.08   \n",
       "8   15027  VENDOR-1944  GL-2182000    42.76   \n",
       "9   15028  VENDOR-2032  GL-6100500    70.47   \n",
       "\n",
       "                                    Item_Description Product_Category  \n",
       "0  travel entertainment miscellaneous company car...       CLASS-1758  \n",
       "1  final site clean store construction advanced m...       CLASS-1522  \n",
       "2  arabian american development co final site cle...       CLASS-1522  \n",
       "3  corporate services contingent labor temp labor...       CLASS-1376  \n",
       "4  fortune national corp miscellaneous company ca...       CLASS-1758  \n",
       "5  dec fortune national corp miscellaneous compan...       CLASS-1758  \n",
       "6  auto leasing corporate services corning inc ny...       CLASS-1250  \n",
       "7  taxes taxes mar frischs restaurants inc nonpro...       CLASS-2146  \n",
       "8  daly john j auto fleet repair maintenance jun ...       CLASS-1249  \n",
       "9  smap media buy traditional cgg holding us inc ...       CLASS-1850  "
      ]
     },
     "execution_count": 125,
     "metadata": {},
     "output_type": "execute_result"
    }
   ],
   "source": [
    "# Get predicted Product_Category values from pretrained Logistic Regression model\n",
    "df_test['Product_Category']=pd.Series(logreg.predict(df_test['Item_Description']))\n",
    "df_test.head(10)"
   ]
  },
  {
   "cell_type": "code",
   "execution_count": 126,
   "metadata": {},
   "outputs": [
    {
     "name": "stdout",
     "output_type": "stream",
     "text": [
      "<class 'pandas.core.frame.DataFrame'>\n",
      "RangeIndex: 2446 entries, 0 to 2445\n",
      "Data columns (total 6 columns):\n",
      "Inv_Id              2446 non-null int64\n",
      "Vendor_Code         2446 non-null object\n",
      "GL_Code             2446 non-null object\n",
      "Inv_Amt             2446 non-null float64\n",
      "Item_Description    2446 non-null object\n",
      "Product_Category    2446 non-null object\n",
      "dtypes: float64(1), int64(1), object(4)\n",
      "memory usage: 114.7+ KB\n"
     ]
    }
   ],
   "source": [
    "df_test.info()"
   ]
  },
  {
   "cell_type": "code",
   "execution_count": 127,
   "metadata": {},
   "outputs": [
    {
     "data": {
      "text/html": [
       "<div>\n",
       "<style scoped>\n",
       "    .dataframe tbody tr th:only-of-type {\n",
       "        vertical-align: middle;\n",
       "    }\n",
       "\n",
       "    .dataframe tbody tr th {\n",
       "        vertical-align: top;\n",
       "    }\n",
       "\n",
       "    .dataframe thead th {\n",
       "        text-align: right;\n",
       "    }\n",
       "</style>\n",
       "<table border=\"1\" class=\"dataframe\">\n",
       "  <thead>\n",
       "    <tr style=\"text-align: right;\">\n",
       "      <th></th>\n",
       "      <th>Inv_Id</th>\n",
       "      <th>Product_Category</th>\n",
       "    </tr>\n",
       "  </thead>\n",
       "  <tbody>\n",
       "    <tr>\n",
       "      <th>0</th>\n",
       "      <td>15003</td>\n",
       "      <td>CLASS-1758</td>\n",
       "    </tr>\n",
       "    <tr>\n",
       "      <th>1</th>\n",
       "      <td>15008</td>\n",
       "      <td>CLASS-1522</td>\n",
       "    </tr>\n",
       "    <tr>\n",
       "      <th>2</th>\n",
       "      <td>15013</td>\n",
       "      <td>CLASS-1522</td>\n",
       "    </tr>\n",
       "    <tr>\n",
       "      <th>3</th>\n",
       "      <td>15019</td>\n",
       "      <td>CLASS-1376</td>\n",
       "    </tr>\n",
       "    <tr>\n",
       "      <th>4</th>\n",
       "      <td>15020</td>\n",
       "      <td>CLASS-1758</td>\n",
       "    </tr>\n",
       "  </tbody>\n",
       "</table>\n",
       "</div>"
      ],
      "text/plain": [
       "   Inv_Id Product_Category\n",
       "0   15003       CLASS-1758\n",
       "1   15008       CLASS-1522\n",
       "2   15013       CLASS-1522\n",
       "3   15019       CLASS-1376\n",
       "4   15020       CLASS-1758"
      ]
     },
     "execution_count": 127,
     "metadata": {},
     "output_type": "execute_result"
    }
   ],
   "source": [
    "# Assign the 'Inv_Id' and 'predicted_product_category' from test dataframe to a new result dataframe\n",
    "df_result = df_test[['Inv_Id', 'Product_Category']]\n",
    "df_result.head()"
   ]
  },
  {
   "cell_type": "code",
   "execution_count": 128,
   "metadata": {},
   "outputs": [],
   "source": [
    "# Store the predicted output to a new .csv file named 'Predicted_Product_Category.csv'\n",
    "df_result.to_csv('Predicted_Product_Category.csv', index=False)"
   ]
  }
 ],
 "metadata": {
  "kernelspec": {
   "display_name": "Python [conda env:data_wrangle] *",
   "language": "python",
   "name": "conda-env-data_wrangle-py"
  },
  "language_info": {
   "codemirror_mode": {
    "name": "ipython",
    "version": 3
   },
   "file_extension": ".py",
   "mimetype": "text/x-python",
   "name": "python",
   "nbconvert_exporter": "python",
   "pygments_lexer": "ipython3",
   "version": "3.7.3"
  }
 },
 "nbformat": 4,
 "nbformat_minor": 2
}
